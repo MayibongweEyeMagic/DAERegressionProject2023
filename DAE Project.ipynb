{
 "cells": [
  {
   "cell_type": "markdown",
   "metadata": {},
   "source": [
    "# Group Members:\n",
    "     - Mayibongwe Bafoly - 1611957\n",
    "     - Phutinane Donald Chipu - 2172765\n",
    "     - O'neil Sithole - 1894057\n",
    "     - Thabelang Ncube - 1918469\n",
    "     - Pfarelo Raliphada - 1593057   "
   ]
  },
  {
   "cell_type": "code",
   "execution_count": 89,
   "metadata": {},
   "outputs": [],
   "source": [
    "import pandas as pd\n",
    "import matplotlib.pyplot as plt\n",
    "import statsmodels.api as sm\n",
    "import pylab as pl\n",
    "import seaborn as sns\n",
    "from sklearn.linear_model import LinearRegression\n",
    "sns.set_style('darkgrid')"
   ]
  },
  {
   "cell_type": "code",
   "execution_count": 90,
   "metadata": {},
   "outputs": [],
   "source": [
    "df = pd.read_csv('DataSet.csv')"
   ]
  },
  {
   "cell_type": "code",
   "execution_count": 102,
   "metadata": {},
   "outputs": [
    {
     "data": {
      "text/html": [
       "<div>\n",
       "<style scoped>\n",
       "    .dataframe tbody tr th:only-of-type {\n",
       "        vertical-align: middle;\n",
       "    }\n",
       "\n",
       "    .dataframe tbody tr th {\n",
       "        vertical-align: top;\n",
       "    }\n",
       "\n",
       "    .dataframe thead th {\n",
       "        text-align: right;\n",
       "    }\n",
       "</style>\n",
       "<table border=\"1\" class=\"dataframe\">\n",
       "  <thead>\n",
       "    <tr style=\"text-align: right;\">\n",
       "      <th></th>\n",
       "      <th>Country</th>\n",
       "      <th>TotalArea</th>\n",
       "      <th>LandArea</th>\n",
       "      <th>WaterArea</th>\n",
       "      <th>Highest.point</th>\n",
       "      <th>Maximum.elevation</th>\n",
       "      <th>Lowest.point</th>\n",
       "      <th>Minimum.elevation</th>\n",
       "      <th>Pop2023</th>\n",
       "    </tr>\n",
       "  </thead>\n",
       "  <tbody>\n",
       "    <tr>\n",
       "      <th>0</th>\n",
       "      <td>Tuvalu</td>\n",
       "      <td>26.0</td>\n",
       "      <td>26.0</td>\n",
       "      <td>0.0</td>\n",
       "      <td>Unnamed location on Niulakita</td>\n",
       "      <td>5.0</td>\n",
       "      <td>South Pacific Ocean</td>\n",
       "      <td>0.0</td>\n",
       "      <td>11396</td>\n",
       "    </tr>\n",
       "    <tr>\n",
       "      <th>1</th>\n",
       "      <td>Marshall Islands</td>\n",
       "      <td>181.0</td>\n",
       "      <td>181.0</td>\n",
       "      <td>11673.0</td>\n",
       "      <td>Unnamed location on Likiep</td>\n",
       "      <td>10.0</td>\n",
       "      <td>North Pacific Ocean</td>\n",
       "      <td>0.0</td>\n",
       "      <td>41996</td>\n",
       "    </tr>\n",
       "    <tr>\n",
       "      <th>2</th>\n",
       "      <td>Bahamas</td>\n",
       "      <td>13943.0</td>\n",
       "      <td>10010.0</td>\n",
       "      <td>3870.0</td>\n",
       "      <td>Mount Alvernia on Cat Island</td>\n",
       "      <td>63.0</td>\n",
       "      <td>North Atlantic Ocean</td>\n",
       "      <td>0.0</td>\n",
       "      <td>412624</td>\n",
       "    </tr>\n",
       "    <tr>\n",
       "      <th>3</th>\n",
       "      <td>Gambia</td>\n",
       "      <td>11295.0</td>\n",
       "      <td>10000.0</td>\n",
       "      <td>1295.0</td>\n",
       "      <td>Unnamed point</td>\n",
       "      <td>64.0</td>\n",
       "      <td>North Atlantic Ocean</td>\n",
       "      <td>0.0</td>\n",
       "      <td>2773168</td>\n",
       "    </tr>\n",
       "    <tr>\n",
       "      <th>4</th>\n",
       "      <td>Nauru</td>\n",
       "      <td>21.0</td>\n",
       "      <td>21.0</td>\n",
       "      <td>0.0</td>\n",
       "      <td>Command Ridge</td>\n",
       "      <td>65.0</td>\n",
       "      <td>South Pacific Ocean</td>\n",
       "      <td>0.0</td>\n",
       "      <td>1278</td>\n",
       "    </tr>\n",
       "  </tbody>\n",
       "</table>\n",
       "</div>"
      ],
      "text/plain": [
       "            Country  TotalArea  LandArea  WaterArea  \\\n",
       "0            Tuvalu       26.0      26.0        0.0   \n",
       "1  Marshall Islands      181.0     181.0    11673.0   \n",
       "2           Bahamas    13943.0   10010.0     3870.0   \n",
       "3            Gambia    11295.0   10000.0     1295.0   \n",
       "4             Nauru       21.0      21.0        0.0   \n",
       "\n",
       "                   Highest.point  Maximum.elevation          Lowest.point  \\\n",
       "0  Unnamed location on Niulakita                5.0   South Pacific Ocean   \n",
       "1     Unnamed location on Likiep               10.0   North Pacific Ocean   \n",
       "2   Mount Alvernia on Cat Island               63.0  North Atlantic Ocean   \n",
       "3                  Unnamed point               64.0  North Atlantic Ocean   \n",
       "4                  Command Ridge               65.0   South Pacific Ocean   \n",
       "\n",
       "   Minimum.elevation  Pop2023  \n",
       "0                0.0    11396  \n",
       "1                0.0    41996  \n",
       "2                0.0   412624  \n",
       "3                0.0  2773168  \n",
       "4                0.0     1278  "
      ]
     },
     "execution_count": 102,
     "metadata": {},
     "output_type": "execute_result"
    }
   ],
   "source": [
    "df.head()"
   ]
  },
  {
   "cell_type": "markdown",
   "metadata": {},
   "source": [
    "(A) The country’s total area"
   ]
  },
  {
   "cell_type": "code",
   "execution_count": 92,
   "metadata": {},
   "outputs": [
    {
     "name": "stdout",
     "output_type": "stream",
     "text": [
      "Intercept: 2432.298502180486\n",
      "Slope: 0.0003685208481007492\n",
      "Predicted highest point for a country with 1000000 sq km of total area: 2800.8193502812355\n"
     ]
    }
   ],
   "source": [
    "X = df['TotalArea'].values.reshape(-1,1)\n",
    "y = df['Maximum.elevation'].values.reshape(-1,1)\n",
    "\n",
    "reg = LinearRegression()\n",
    "reg.fit(X, y)\n",
    "\n",
    "intercept = reg.intercept_[0]\n",
    "slope = reg.coef_[0][0]\n",
    "print('Intercept:', intercept)\n",
    "print('Slope:', slope)\n",
    "\n",
    "new_country_total_area = 1000000\n",
    "predicted_highest_point = reg.predict([[new_country_total_area]])\n",
    "print('Predicted highest point for a country with 1000000 sq km of total area:', predicted_highest_point[0][0])\n",
    "\n"
   ]
  },
  {
   "cell_type": "code",
   "execution_count": 93,
   "metadata": {},
   "outputs": [
    {
     "data": {
      "image/png": "[encoded data removed]",
      "text/plain": [
       "<Figure size 432x288 with 1 Axes>"
      ]
     },
     "metadata": {},
     "output_type": "display_data"
    }
   ],
   "source": [
    "plt.scatter(X, y)\n",
    "plt.plot(X, reg.predict(X), color='red', linewidth=2)\n",
    "plt.xlabel('Total Area')\n",
    "plt.ylabel('Maximum Elevation')\n",
    "\n",
    "line_eq = f'y = {slope:.2f}x + {intercept:.2f}'\n",
    "plt.annotate(line_eq, xy=(0.1, 0.9), xycoords='axes fraction', fontsize=12, color='red')\n",
    "plt.show()\n"
   ]
  },
  {
   "cell_type": "code",
   "execution_count": 94,
   "metadata": {},
   "outputs": [],
   "source": [
    "y = df['Maximum.elevation']\n",
    "x1 = df['TotalArea']"
   ]
  },
  {
   "cell_type": "code",
   "execution_count": 95,
   "metadata": {},
   "outputs": [
    {
     "data": {
      "text/html": [
       "<table class=\"simpletable\">\n",
       "<caption>OLS Regression Results</caption>\n",
       "<tr>\n",
       "  <th>Dep. Variable:</th>    <td>Maximum.elevation</td> <th>  R-squared:         </th> <td>   0.097</td>\n",
       "</tr>\n",
       "<tr>\n",
       "  <th>Model:</th>                   <td>OLS</td>        <th>  Adj. R-squared:    </th> <td>   0.092</td>\n",
       "</tr>\n",
       "<tr>\n",
       "  <th>Method:</th>             <td>Least Squares</td>   <th>  F-statistic:       </th> <td>   18.27</td>\n",
       "</tr>\n",
       "<tr>\n",
       "  <th>Date:</th>             <td>Sun, 23 Apr 2023</td>  <th>  Prob (F-statistic):</th> <td>3.19e-05</td>\n",
       "</tr>\n",
       "<tr>\n",
       "  <th>Time:</th>                 <td>20:41:18</td>      <th>  Log-Likelihood:    </th> <td> -1542.4</td>\n",
       "</tr>\n",
       "<tr>\n",
       "  <th>No. Observations:</th>      <td>   172</td>       <th>  AIC:               </th> <td>   3089.</td>\n",
       "</tr>\n",
       "<tr>\n",
       "  <th>Df Residuals:</th>          <td>   170</td>       <th>  BIC:               </th> <td>   3095.</td>\n",
       "</tr>\n",
       "<tr>\n",
       "  <th>Df Model:</th>              <td>     1</td>       <th>                     </th>     <td> </td>   \n",
       "</tr>\n",
       "<tr>\n",
       "  <th>Covariance Type:</th>      <td>nonrobust</td>     <th>                     </th>     <td> </td>   \n",
       "</tr>\n",
       "</table>\n",
       "<table class=\"simpletable\">\n",
       "<tr>\n",
       "      <td></td>         <th>coef</th>     <th>std err</th>      <th>t</th>      <th>P>|t|</th>  <th>[0.025</th>    <th>0.975]</th>  \n",
       "</tr>\n",
       "<tr>\n",
       "  <th>const</th>     <td> 2432.2985</td> <td>  154.131</td> <td>   15.781</td> <td> 0.000</td> <td> 2128.042</td> <td> 2736.555</td>\n",
       "</tr>\n",
       "<tr>\n",
       "  <th>TotalArea</th> <td>    0.0004</td> <td> 8.62e-05</td> <td>    4.274</td> <td> 0.000</td> <td>    0.000</td> <td>    0.001</td>\n",
       "</tr>\n",
       "</table>\n",
       "<table class=\"simpletable\">\n",
       "<tr>\n",
       "  <th>Omnibus:</th>       <td>26.798</td> <th>  Durbin-Watson:     </th> <td>   0.221</td>\n",
       "</tr>\n",
       "<tr>\n",
       "  <th>Prob(Omnibus):</th> <td> 0.000</td> <th>  Jarque-Bera (JB):  </th> <td>  33.993</td>\n",
       "</tr>\n",
       "<tr>\n",
       "  <th>Skew:</th>          <td> 0.997</td> <th>  Prob(JB):          </th> <td>4.15e-08</td>\n",
       "</tr>\n",
       "<tr>\n",
       "  <th>Kurtosis:</th>      <td> 3.876</td> <th>  Cond. No.          </th> <td>1.89e+06</td>\n",
       "</tr>\n",
       "</table><br/><br/>Warnings:<br/>[1] Standard Errors assume that the covariance matrix of the errors is correctly specified.<br/>[2] The condition number is large, 1.89e+06. This might indicate that there are<br/>strong multicollinearity or other numerical problems."
      ],
      "text/plain": [
       "<class 'statsmodels.iolib.summary.Summary'>\n",
       "\"\"\"\n",
       "                            OLS Regression Results                            \n",
       "==============================================================================\n",
       "Dep. Variable:      Maximum.elevation   R-squared:                       0.097\n",
       "Model:                            OLS   Adj. R-squared:                  0.092\n",
       "Method:                 Least Squares   F-statistic:                     18.27\n",
       "Date:                Sun, 23 Apr 2023   Prob (F-statistic):           3.19e-05\n",
       "Time:                        20:41:18   Log-Likelihood:                -1542.4\n",
       "No. Observations:                 172   AIC:                             3089.\n",
       "Df Residuals:                     170   BIC:                             3095.\n",
       "Df Model:                           1                                         \n",
       "Covariance Type:            nonrobust                                         \n",
       "==============================================================================\n",
       "                 coef    std err          t      P>|t|      [0.025      0.975]\n",
       "------------------------------------------------------------------------------\n",
       "const       2432.2985    154.131     15.781      0.000    2128.042    2736.555\n",
       "TotalArea      0.0004   8.62e-05      4.274      0.000       0.000       0.001\n",
       "==============================================================================\n",
       "Omnibus:                       26.798   Durbin-Watson:                   0.221\n",
       "Prob(Omnibus):                  0.000   Jarque-Bera (JB):               33.993\n",
       "Skew:                           0.997   Prob(JB):                     4.15e-08\n",
       "Kurtosis:                       3.876   Cond. No.                     1.89e+06\n",
       "==============================================================================\n",
       "\n",
       "Warnings:\n",
       "[1] Standard Errors assume that the covariance matrix of the errors is correctly specified.\n",
       "[2] The condition number is large, 1.89e+06. This might indicate that there are\n",
       "strong multicollinearity or other numerical problems.\n",
       "\"\"\""
      ]
     },
     "execution_count": 95,
     "metadata": {},
     "output_type": "execute_result"
    }
   ],
   "source": [
    "x = sm.add_constant(x1)\n",
    "results = sm.OLS(y,x).fit()\n",
    "results.summary()"
   ]
  },
  {
   "cell_type": "markdown",
   "metadata": {},
   "source": [
    "--------------------------------------------------------------------------------------------------------------------------------------------------------------------------------------------------------------------------------------------------------------------------"
   ]
  },
  {
   "cell_type": "markdown",
   "metadata": {},
   "source": [
    " How significant is the slope?"
   ]
  },
  {
   "cell_type": "markdown",
   "metadata": {},
   "source": [
    "$$\n",
    "H_{0}: \\beta = 0 \\\\\n",
    "H_{a}: \\beta \\neq  0 \\\\\n",
    "$$\n",
    "$$       \n",
    "\\alpha = 0.05   \\\\     \n",
    "$$\n",
    "$$P-value \\approx 0.000 $$\n",
    "\n",
    "There is enough evidence to reject the Null Hypothesis and therefore, we conclude that the slope is significant at a 0.05 significance level."
   ]
  },
  {
   "cell_type": "markdown",
   "metadata": {},
   "source": [
    "Does the slope make intuitive sense?"
   ]
  },
  {
   "cell_type": "markdown",
   "metadata": {},
   "source": [
    "The slope of approximately 0.0003685 represents the change in the dependent variable (Maximum Elevation) for every one-unit increase in the independent variable (Total Area), while holding all other variables constant. Since the slope is positive, it indicates that there is a positive linear relationship between Total Area and Maximum Elevation, meaning that as Total Area increases, Maximum Elevation also tends to increase. Therefore the slope does make intuitive sense. "
   ]
  },
  {
   "cell_type": "markdown",
   "metadata": {},
   "source": [
    "Does it correspond to your intuition from the scatter plot?"
   ]
  },
  {
   "cell_type": "markdown",
   "metadata": {},
   "source": [
    "Yes, the results are in line with the intuition from the scatter plot. As we saw in the scatter plot, there is a positive correlation between maximum elevation and total area, and this is confirmed by the correlation coefficients obtained from the calculations."
   ]
  },
  {
   "cell_type": "markdown",
   "metadata": {},
   "source": [
    "Discuss how you’d deal with outliers?\n"
   ]
  },
  {
   "cell_type": "markdown",
   "metadata": {},
   "source": [
    "We can you the transformation approach to transform the data using mathematical functions such as logarithms, square roots, and etc. This can help to reduce the impact of outliers and make the data more normally distributed."
   ]
  },
  {
   "cell_type": "markdown",
   "metadata": {},
   "source": [
    "----------------------------------------------------------------------------------------------------------------------------------------------------------------------------------------------------------------------------------------------------------------------------------------------------------"
   ]
  },
  {
   "cell_type": "markdown",
   "metadata": {},
   "source": [
    "(B) The country’s lowest point"
   ]
  },
  {
   "cell_type": "code",
   "execution_count": 96,
   "metadata": {},
   "outputs": [
    {
     "name": "stdout",
     "output_type": "stream",
     "text": [
      "Intercept: 2579.3869556609334\n",
      "Slope: 1.472314744911528\n",
      "Predicted highest point for a country with a lowest point of 100 meters: 2726.618430152086\n"
     ]
    }
   ],
   "source": [
    "X = df['Minimum.elevation'].values.reshape(-1,1)\n",
    "y = df['Maximum.elevation'].values.reshape(-1,1)\n",
    "\n",
    "reg = LinearRegression()\n",
    "reg.fit(X, y)\n",
    "\n",
    "print('Intercept:', reg.intercept_[0])\n",
    "print('Slope:', reg.coef_[0][0])\n",
    "\n",
    "new_country_lowest_point = 100\n",
    "predicted_highest_point = reg.predict([[new_country_lowest_point]])\n",
    "print('Predicted highest point for a country with a lowest point of 100 meters:', predicted_highest_point[0][0])"
   ]
  },
  {
   "cell_type": "code",
   "execution_count": 97,
   "metadata": {},
   "outputs": [
    {
     "data": {
      "image/png": "[encoded data removed]",
      "text/plain": [
       "<Figure size 432x288 with 1 Axes>"
      ]
     },
     "metadata": {},
     "output_type": "display_data"
    }
   ],
   "source": [
    "plt.scatter(X, y)\n",
    "plt.plot(X, reg.predict(X), color='red', linewidth=2)\n",
    "plt.xlabel('Minimum Elevation')\n",
    "plt.ylabel('Maximum Elevation')\n",
    "line_eq = f'y = {slope:.2f}x + {intercept:.2f}'\n",
    "plt.show()"
   ]
  },
  {
   "cell_type": "code",
   "execution_count": 98,
   "metadata": {},
   "outputs": [],
   "source": [
    "y = df['Maximum.elevation']\n",
    "x1 = df['Minimum.elevation']"
   ]
  },
  {
   "cell_type": "code",
   "execution_count": 99,
   "metadata": {},
   "outputs": [
    {
     "data": {
      "text/html": [
       "<table class=\"simpletable\">\n",
       "<caption>OLS Regression Results</caption>\n",
       "<tr>\n",
       "  <th>Dep. Variable:</th>    <td>Maximum.elevation</td> <th>  R-squared:         </th> <td>   0.021</td>\n",
       "</tr>\n",
       "<tr>\n",
       "  <th>Model:</th>                   <td>OLS</td>        <th>  Adj. R-squared:    </th> <td>   0.015</td>\n",
       "</tr>\n",
       "<tr>\n",
       "  <th>Method:</th>             <td>Least Squares</td>   <th>  F-statistic:       </th> <td>   3.574</td>\n",
       "</tr>\n",
       "<tr>\n",
       "  <th>Date:</th>             <td>Sun, 23 Apr 2023</td>  <th>  Prob (F-statistic):</th>  <td>0.0604</td> \n",
       "</tr>\n",
       "<tr>\n",
       "  <th>Time:</th>                 <td>20:41:22</td>      <th>  Log-Likelihood:    </th> <td> -1549.4</td>\n",
       "</tr>\n",
       "<tr>\n",
       "  <th>No. Observations:</th>      <td>   172</td>       <th>  AIC:               </th> <td>   3103.</td>\n",
       "</tr>\n",
       "<tr>\n",
       "  <th>Df Residuals:</th>          <td>   170</td>       <th>  BIC:               </th> <td>   3109.</td>\n",
       "</tr>\n",
       "<tr>\n",
       "  <th>Df Model:</th>              <td>     1</td>       <th>                     </th>     <td> </td>   \n",
       "</tr>\n",
       "<tr>\n",
       "  <th>Covariance Type:</th>      <td>nonrobust</td>     <th>                     </th>     <td> </td>   \n",
       "</tr>\n",
       "</table>\n",
       "<table class=\"simpletable\">\n",
       "<tr>\n",
       "          <td></td>             <th>coef</th>     <th>std err</th>      <th>t</th>      <th>P>|t|</th>  <th>[0.025</th>    <th>0.975]</th>  \n",
       "</tr>\n",
       "<tr>\n",
       "  <th>const</th>             <td> 2579.3870</td> <td>  155.998</td> <td>   16.535</td> <td> 0.000</td> <td> 2271.445</td> <td> 2887.329</td>\n",
       "</tr>\n",
       "<tr>\n",
       "  <th>Minimum.elevation</th> <td>    1.4723</td> <td>    0.779</td> <td>    1.890</td> <td> 0.060</td> <td>   -0.065</td> <td>    3.010</td>\n",
       "</tr>\n",
       "</table>\n",
       "<table class=\"simpletable\">\n",
       "<tr>\n",
       "  <th>Omnibus:</th>       <td>26.501</td> <th>  Durbin-Watson:     </th> <td>   0.052</td>\n",
       "</tr>\n",
       "<tr>\n",
       "  <th>Prob(Omnibus):</th> <td> 0.000</td> <th>  Jarque-Bera (JB):  </th> <td>  33.316</td>\n",
       "</tr>\n",
       "<tr>\n",
       "  <th>Skew:</th>          <td> 1.017</td> <th>  Prob(JB):          </th> <td>5.83e-08</td>\n",
       "</tr>\n",
       "<tr>\n",
       "  <th>Kurtosis:</th>      <td> 3.713</td> <th>  Cond. No.          </th> <td>    206.</td>\n",
       "</tr>\n",
       "</table><br/><br/>Warnings:<br/>[1] Standard Errors assume that the covariance matrix of the errors is correctly specified."
      ],
      "text/plain": [
       "<class 'statsmodels.iolib.summary.Summary'>\n",
       "\"\"\"\n",
       "                            OLS Regression Results                            \n",
       "==============================================================================\n",
       "Dep. Variable:      Maximum.elevation   R-squared:                       0.021\n",
       "Model:                            OLS   Adj. R-squared:                  0.015\n",
       "Method:                 Least Squares   F-statistic:                     3.574\n",
       "Date:                Sun, 23 Apr 2023   Prob (F-statistic):             0.0604\n",
       "Time:                        20:41:22   Log-Likelihood:                -1549.4\n",
       "No. Observations:                 172   AIC:                             3103.\n",
       "Df Residuals:                     170   BIC:                             3109.\n",
       "Df Model:                           1                                         \n",
       "Covariance Type:            nonrobust                                         \n",
       "=====================================================================================\n",
       "                        coef    std err          t      P>|t|      [0.025      0.975]\n",
       "-------------------------------------------------------------------------------------\n",
       "const              2579.3870    155.998     16.535      0.000    2271.445    2887.329\n",
       "Minimum.elevation     1.4723      0.779      1.890      0.060      -0.065       3.010\n",
       "==============================================================================\n",
       "Omnibus:                       26.501   Durbin-Watson:                   0.052\n",
       "Prob(Omnibus):                  0.000   Jarque-Bera (JB):               33.316\n",
       "Skew:                           1.017   Prob(JB):                     5.83e-08\n",
       "Kurtosis:                       3.713   Cond. No.                         206.\n",
       "==============================================================================\n",
       "\n",
       "Warnings:\n",
       "[1] Standard Errors assume that the covariance matrix of the errors is correctly specified.\n",
       "\"\"\""
      ]
     },
     "execution_count": 99,
     "metadata": {},
     "output_type": "execute_result"
    }
   ],
   "source": [
    "x = sm.add_constant(x1)\n",
    "results = sm.OLS(y,x).fit()\n",
    "results.summary()"
   ]
  },
  {
   "cell_type": "markdown",
   "metadata": {},
   "source": [
    " How significant is the slope?"
   ]
  },
  {
   "cell_type": "markdown",
   "metadata": {},
   "source": [
    "$$\n",
    "H_{0}: \\beta = 0 \\\\\n",
    "H_{a}: \\beta \\neq  0 \\\\\n",
    "$$\n",
    "$$       \n",
    "\\alpha = 0.05   \\\\     \n",
    "$$\n",
    "$$P-value \\approx 0.060 $$\n",
    "\n",
    "We fail to reject the Null Hypothesis and therefore, we conclude that the slope is not significant at a 0.05 significance level."
   ]
  },
  {
   "cell_type": "markdown",
   "metadata": {},
   "source": [
    "Does the slope make intuitive sense?"
   ]
  },
  {
   "cell_type": "markdown",
   "metadata": {},
   "source": [
    "No, It is not possible to make any conclusive statement about the slope of the regression line. It is necessary to consider other variables and factors that may impact the relationship between maximum and minimum elevations in order to determine if the slope makes intuitive sense."
   ]
  },
  {
   "cell_type": "markdown",
   "metadata": {},
   "source": [
    "Does it correspond to your intuition from the scatter plot?"
   ]
  },
  {
   "cell_type": "markdown",
   "metadata": {},
   "source": [
    "No, The slope between Maximum Elevation and Minimum Elevation in the scatter plot shows a positive relationship. "
   ]
  },
  {
   "cell_type": "markdown",
   "metadata": {},
   "source": [
    "Discuss how you’d deal with outliers?"
   ]
  },
  {
   "cell_type": "markdown",
   "metadata": {},
   "source": [
    "We would need to transform the data to deal with the negative values, a transformation can be applied to the data to make it more symmetric. For example, the logarithm or square root transformation can be used to bring the data closer to a normal distribution."
   ]
  },
  {
   "cell_type": "markdown",
   "metadata": {},
   "source": [
    "------------------------------------------------------------------------------------------------------------------------------------------------------------------------------------------------------------------------------------------------------------------------------------------------------------"
   ]
  },
  {
   "cell_type": "markdown",
   "metadata": {},
   "source": [
    "Several Variable regression/ Use the techniques of multiple variable regression to fix a model using\n",
    "some of the variables given. For example, the lowest point, the total area, the land and water area and\n",
    "the population. Discuss why you left out certain variables and left others in.\n"
   ]
  },
  {
   "cell_type": "code",
   "execution_count": 115,
   "metadata": {},
   "outputs": [
    {
     "name": "stdout",
     "output_type": "stream",
     "text": [
      "Intercept: 2337.8523525653413\n",
      "Coefficients: {'TotalArea': 0.26776436342185217, 'LandArea': -0.26755029694838545, 'WaterArea': -0.26350385932960385, 'Minimum.elevation': 1.7779108444941447}\n",
      "Predicted highest point for a country with given values of independent variables: 8894129.360106146\n"
     ]
    }
   ],
   "source": [
    "X = df[['TotalArea', 'LandArea', 'WaterArea', 'Minimum.elevation']]\n",
    "y = df['Maximum.elevation']\n",
    "\n",
    "reg = LinearRegression()\n",
    "reg.fit(X, y)\n",
    "\n",
    "coefficients = dict(zip(X.columns, reg.coef_))\n",
    "print('Intercept:', reg.intercept_)\n",
    "print('Coefficients:', coefficients)\n",
    "\n",
    "new_country_values = [1000000, 500000, 500000, 5000000]\n",
    "predicted_highest_point = reg.predict([new_country_values])\n",
    "print('Predicted highest point for a country with given values of independent variables:', predicted_highest_point[0])\n"
   ]
  },
  {
   "cell_type": "code",
   "execution_count": 129,
   "metadata": {},
   "outputs": [
    {
     "data": {
      "image/png": "[encoded data removed]",
      "text/plain": [
       "<Figure size 432x288 with 1 Axes>"
      ]
     },
     "metadata": {},
     "output_type": "display_data"
    }
   ],
   "source": [
    "plt.scatter(y, reg.predict(X))\n",
    "plt.xlabel('Actual Maximum Elevation')\n",
    "plt.ylabel('Predicted Maximum Elevation')\n",
    "plt.show()"
   ]
  },
  {
   "cell_type": "code",
   "execution_count": 117,
   "metadata": {},
   "outputs": [
    {
     "name": "stdout",
     "output_type": "stream",
     "text": [
      "                            OLS Regression Results                            \n",
      "==============================================================================\n",
      "Dep. Variable:      Maximum.elevation   R-squared:                       0.171\n",
      "Model:                            OLS   Adj. R-squared:                  0.151\n",
      "Method:                 Least Squares   F-statistic:                     8.596\n",
      "Date:                Sun, 23 Apr 2023   Prob (F-statistic):           2.48e-06\n",
      "Time:                        22:28:48   Log-Likelihood:                -1535.1\n",
      "No. Observations:                 172   AIC:                             3080.\n",
      "Df Residuals:                     167   BIC:                             3096.\n",
      "Df Model:                           4                                         \n",
      "Covariance Type:            nonrobust                                         \n",
      "=====================================================================================\n",
      "                        coef    std err          t      P>|t|      [0.025      0.975]\n",
      "-------------------------------------------------------------------------------------\n",
      "const              2337.8524    155.431     15.041      0.000    2030.989    2644.715\n",
      "TotalArea             0.2678      0.095      2.815      0.005       0.080       0.456\n",
      "LandArea             -0.2676      0.095     -2.813      0.005      -0.455      -0.080\n",
      "WaterArea            -0.2635      0.095     -2.770      0.006      -0.451      -0.076\n",
      "Minimum.elevation     1.7779      0.725      2.451      0.015       0.346       3.210\n",
      "==============================================================================\n",
      "Omnibus:                       32.254   Durbin-Watson:                   0.379\n",
      "Prob(Omnibus):                  0.000   Jarque-Bera (JB):               44.792\n",
      "Skew:                           1.087   Prob(JB):                     1.88e-10\n",
      "Kurtosis:                       4.234   Cond. No.                     2.74e+06\n",
      "==============================================================================\n",
      "\n",
      "Warnings:\n",
      "[1] Standard Errors assume that the covariance matrix of the errors is correctly specified.\n",
      "[2] The condition number is large, 2.74e+06. This might indicate that there are\n",
      "strong multicollinearity or other numerical problems.\n"
     ]
    }
   ],
   "source": [
    "\n",
    "X = sm.add_constant(X)\n",
    "results = sm.OLS(y, X).fit()\n",
    "print(results.summary())\n"
   ]
  },
  {
   "cell_type": "markdown",
   "metadata": {},
   "source": [
    "We left out some variables such as Lowest.point and Pop2023 because they may not have a significant effect on the variation of Maximum Elevation, the ones we let in have a significant effect on the variation of Maximum Elevation."
   ]
  },
  {
   "cell_type": "markdown",
   "metadata": {},
   "source": [
    "Overall, if you had to accurately predict the maximum elevation, which model (from the above ones)\n",
    "would you choose and why?"
   ]
  },
  {
   "cell_type": "markdown",
   "metadata": {},
   "source": [
    " Several Variable regression - It is necessary to consider other variables and factors that may impact the maximum elevations."
   ]
  },
  {
   "cell_type": "code",
   "execution_count": null,
   "metadata": {},
   "outputs": [],
   "source": []
  }
 ],
 "metadata": {
  "kernelspec": {
   "display_name": "Python 3",
   "language": "python",
   "name": "python3"
  },
  "language_info": {
   "codemirror_mode": {
    "name": "ipython",
    "version": 3
   },
   "file_extension": ".py",
   "mimetype": "text/x-python",
   "name": "python",
   "nbconvert_exporter": "python",
   "pygments_lexer": "ipython3",
   "version": "3.7.1"
  }
 },
 "nbformat": 4,
 "nbformat_minor": 2
}
